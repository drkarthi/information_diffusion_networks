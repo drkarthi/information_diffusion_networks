{
 "cells": [
  {
   "cell_type": "code",
   "execution_count": 137,
   "metadata": {
    "collapsed": false
   },
   "outputs": [],
   "source": [
    "import networkx as nx\n",
    "import pandas as pd\n",
    "import numpy as np\n",
    "import simplejson as json\n",
    "import sys\n",
    "import os\n",
    "from collections import defaultdict"
   ]
  },
  {
   "cell_type": "code",
   "execution_count": 148,
   "metadata": {
    "collapsed": false
   },
   "outputs": [
    {
     "name": "stdout",
     "output_type": "stream",
     "text": [
      "{'nodes': ['religion', 'caste', 'mothertongue', 'occupation', 'resp_gend'], 'villages': [1], 'type': u'', 'edges': ['allVillageRelationships']}\n"
     ]
    }
   ],
   "source": [
    "#Loading the json file over here\n",
    "# {\n",
    "#   \"villages\": [1],\n",
    "#   \"nodes\" : [\"religion\"],\n",
    "#   \"edges\" : [\"borrowmoney\"],\n",
    "#   \"type\" : \"\" #HH for households, nothing for individuals\n",
    "# }\n",
    "\n",
    "try:\n",
    "    with open(\"config.json\",'r') as config_file:\n",
    "        config = json.load(config_file)\n",
    "except:\n",
    "    print \"Config.json not found.. exitting\"\n",
    "    sys.exit()\n",
    "\n",
    "print config"
   ]
  },
  {
   "cell_type": "code",
   "execution_count": 149,
   "metadata": {
    "collapsed": false
   },
   "outputs": [
    {
     "name": "stdout",
     "output_type": "stream",
     "text": [
      "   village  adjmatrix_key     pid  hhid  resp_id  resp_gend  \\\n",
      "0        1              5  100201  1002        1          1   \n",
      "1        1              6  100202  1002        2          2   \n",
      "2        1             23  100601  1006        1          1   \n",
      "3        1             24  100602  1006        2          2   \n",
      "4        1             27  100701  1007        1          1   \n",
      "\n",
      "                   resp_status  age  religion caste        ...         \\\n",
      "0            Head of Household   38  HINDUISM   OBC        ...          \n",
      "1  Spouse of Head of Household   27  HINDUISM   OBC        ...          \n",
      "2            Head of Household   29  HINDUISM   OBC        ...          \n",
      "3  Spouse of Head of Household   24  HINDUISM   OBC        ...          \n",
      "4            Head of Household   58  HINDUISM   OBC        ...          \n",
      "\n",
      "        privategovt work_outside work_outside_freq shgparticipate shg_no  \\\n",
      "0  PRIVATE BUSINESS          Yes                 0             No    NaN   \n",
      "1                            NaN               NaN             No    NaN   \n",
      "2        OTHER LAND           No               NaN             No    NaN   \n",
      "3  PRIVATE BUSINESS           No               NaN            Yes      1   \n",
      "4        OTHER LAND           No               NaN             No    NaN   \n",
      "\n",
      "  savings savings_no electioncard rationcard rationcard_colour  \n",
      "0      No        NaN          Yes        Yes             GREEN  \n",
      "1      No        NaN          Yes        Yes             GREEN  \n",
      "2      No        NaN          Yes        Yes             GREEN  \n",
      "3     Yes          1          Yes         No                    \n",
      "4      No        NaN          Yes        Yes             GREEN  \n",
      "\n",
      "[5 rows x 48 columns]\n"
     ]
    }
   ],
   "source": [
    "#Initializing the variables\n",
    "networks = []\n",
    "if config['type']=='HH':\n",
    "    characterestic_file = 'demographics/household_characteristics.dta'\n",
    "    prefix = 'HH'\n",
    "else:\n",
    "    characterestic_file = 'demographics/individual_characteristics.dta'\n",
    "    prefix = ''\n",
    "\n",
    "#load files and check if node heads exist or not\n",
    "df = pd.read_stata(characterestic_file)\n",
    "# print df.columns\n",
    "print df.head()"
   ]
  },
  {
   "cell_type": "code",
   "execution_count": 153,
   "metadata": {
    "collapsed": false
   },
   "outputs": [],
   "source": [
    "#validate node properties\n",
    "count = 0\n",
    "for value in config['nodes']:\n",
    "    if value in df.columns:\n",
    "        count += 1\n",
    "try:\n",
    "    if count != len(config['nodes']):\n",
    "        raise ValueError('Mismatch in nodes please check those properties')\n",
    "except:\n",
    "    sys.exit()\n",
    "    \n",
    "#validate edges\n",
    "#Get possible relationships & village from edges\n",
    "folder = 'network/Adjacency Matrices'    \n",
    "files = os.listdir(folder)\n",
    "possibleEdgeNames = set()\n",
    "possibleVillages = set()\n",
    "for file in files:\n",
    "    split = file.split('_')\n",
    "    possibleEdgeNames.add(split[1])\n",
    "    possibleVillages.add(int(split[-1].split('.')[0]))\n",
    "\n",
    "#validate edges in cofig   \n",
    "count = 0\n",
    "for value in config['edges']:\n",
    "    if value in possibleEdgeNames:\n",
    "        count += 1\n",
    "try:\n",
    "    if count != len(config['edges']):\n",
    "        raise ValueError('Mismatch in edges please check those properties')\n",
    "except ValueError as e:\n",
    "    print e\n",
    "    sys.exit()\n",
    "    \n",
    "    \n",
    "#validate villages\n",
    "count = 0\n",
    "for value in config['villages']:\n",
    "    if value in possibleVillages:\n",
    "        count += 1\n",
    "try:\n",
    "    if count != len(config['villages']):\n",
    "        raise ValueError('Mismatch in villages please check those properties')\n",
    "except ValueError as e:\n",
    "    print e\n",
    "    sys.exit()   "
   ]
  },
  {
   "cell_type": "code",
   "execution_count": 154,
   "metadata": {
    "collapsed": false
   },
   "outputs": [],
   "source": [
    "#building data frames for networks, this can be passed to a function to make a network\n",
    "output = 'output\\edgeStata'\n",
    "network_df = defaultdict(dict)\n",
    "for village in config['villages']:\n",
    "    #Figure out the keys in the villages\n",
    "    key_file = 'network/Adjacency Matrix Keys/key'+prefix+'_vilno_'+str(village)+'.csv'\n",
    "    with open(key_file) as key:\n",
    "        keys = [x.strip() for x in iter(key)]\n",
    "        #Figure out the matrix with row and col names\n",
    "        for edge in config['edges']:\n",
    "            vill_file = 'network/Adjacency Matrices/adj_'+edge+'_'+prefix+'_vilno_'+str(village)+'.csv'\n",
    "            vill_file = vill_file.replace('__','_')\n",
    "            #Build adjacency matrics by graphs in data frames by their names\n",
    "            network_df[village][edge]  = pd.read_csv(vill_file,names=keys)\n",
    "            network_df[village] [edge].index = keys\n",
    "            network_df[village][edge].to_stata(output+\"\\\\\"+str(village)+\"_\"+edge+\".dta\")"
   ]
  },
  {
   "cell_type": "code",
   "execution_count": 55,
   "metadata": {
    "collapsed": false,
    "scrolled": true
   },
   "outputs": [
    {
     "name": "stdout",
     "output_type": "stream",
     "text": [
      "   village  adjmatrix_key     pid  hhid  resp_id  resp_gend  \\\n",
      "0        1              5  100201  1002        1          1   \n",
      "1        1              6  100202  1002        2          2   \n",
      "2        1             23  100601  1006        1          1   \n",
      "3        1             24  100602  1006        2          2   \n",
      "4        1             27  100701  1007        1          1   \n",
      "\n",
      "                   resp_status  age  religion caste        ...         \\\n",
      "0            Head of Household   38  HINDUISM   OBC        ...          \n",
      "1  Spouse of Head of Household   27  HINDUISM   OBC        ...          \n",
      "2            Head of Household   29  HINDUISM   OBC        ...          \n",
      "3  Spouse of Head of Household   24  HINDUISM   OBC        ...          \n",
      "4            Head of Household   58  HINDUISM   OBC        ...          \n",
      "\n",
      "        privategovt work_outside work_outside_freq shgparticipate shg_no  \\\n",
      "0  PRIVATE BUSINESS          Yes                 0             No    NaN   \n",
      "1                            NaN               NaN             No    NaN   \n",
      "2        OTHER LAND           No               NaN             No    NaN   \n",
      "3  PRIVATE BUSINESS           No               NaN            Yes      1   \n",
      "4        OTHER LAND           No               NaN             No    NaN   \n",
      "\n",
      "  savings savings_no electioncard rationcard rationcard_colour  \n",
      "0      No        NaN          Yes        Yes             GREEN  \n",
      "1      No        NaN          Yes        Yes             GREEN  \n",
      "2      No        NaN          Yes        Yes             GREEN  \n",
      "3     Yes          1          Yes         No                    \n",
      "4      No        NaN          Yes        Yes             GREEN  \n",
      "\n",
      "[5 rows x 48 columns]\n",
      "1\n"
     ]
    }
   ],
   "source": [
    "#build tables as asked for Kartik and Mohammed asked\n",
    "# print df.head(n=5)\n",
    "# print df['resp_gend'][0]"
   ]
  },
  {
   "cell_type": "code",
   "execution_count": null,
   "metadata": {
    "collapsed": false
   },
   "outputs": [
    {
     "name": "stderr",
     "output_type": "stream",
     "text": [
      "C:\\Anaconda2\\lib\\site-packages\\ipykernel\\__main__.py:28: SettingWithCopyWarning: \n",
      "A value is trying to be set on a copy of a slice from a DataFrame\n",
      "\n",
      "See the caveats in the documentation: http://pandas.pydata.org/pandas-docs/stable/indexing.html#indexing-view-versus-copy\n",
      "C:\\Anaconda2\\lib\\site-packages\\ipykernel\\__main__.py:19: SettingWithCopyWarning: \n",
      "A value is trying to be set on a copy of a slice from a DataFrame\n",
      "\n",
      "See the caveats in the documentation: http://pandas.pydata.org/pandas-docs/stable/indexing.html#indexing-view-versus-copy\n"
     ]
    }
   ],
   "source": [
    "from itertools import combinations\n",
    "network_pairs_df = defaultdict(dict)\n",
    "for village in config['villages']:\n",
    "    #create villages subset\n",
    "    village_subset = df[df['village']==village]\n",
    "    #get unique hhids or pids depending upon the configuration\n",
    "    if config['type'] == 'HH':\n",
    "        unique_id = village_subset['hhid'].unique()\n",
    "    else:\n",
    "        unique_id = village_subset['pid'].unique()\n",
    "    unique_id_pairs = [item for item in combinations(unique_id,2)]\n",
    "    #create the dataframe for each edge property\n",
    "    for edge in config['edges']:\n",
    "        columns = [edge] + config['nodes']\n",
    "        network_pairs_df[village][edge] = pd.DataFrame(data=0,index=unique_id_pairs,columns=columns)\n",
    "        #Append rows accordingly by tuples\n",
    "        for pair in unique_id_pairs:\n",
    "            #this is taken directly from the df we created earlier\n",
    "            network_pairs_df[village][edge][edge][pair] = network_df[village][edge].loc[str(pair[0]),str(pair[1])]\n",
    "            for node in config['nodes']:\n",
    "                #network_pairs_df[village][edge][node][pair] = 0#(village_subset[node][pair[0]])#, village_subset[node][pair[1]])\n",
    "                if config['type']=='HH':\n",
    "                    network_pairs_df[village][edge][node][pair] =  (village_subset[village_subset['hhid']==pair[0]][node].to_dict().values()[0],\n",
    "                                                                    village_subset[village_subset['hhid']==pair[1]][node].to_dict().values()[0])\n",
    "                else:\n",
    "                    p1 = village_subset[village_subset['pid']==pair[0]][node].to_dict().values()[0] #Hindu\n",
    "                    p2 = village_subset[village_subset['pid']==pair[1]][node].to_dict().values()[0] #Muslim\n",
    "                    network_pairs_df[village][edge][node][pair] = str(p1)+\",\"+str(p2)\n",
    "#                     network_pairs_df[village][edge][node][pair] =  (p1,p2)\n"
   ]
  },
  {
   "cell_type": "code",
   "execution_count": null,
   "metadata": {
    "collapsed": false
   },
   "outputs": [],
   "source": [
    "output = 'output\\pair\\'\n",
    "for village,edge in network_pairs_df.items():\n",
    "    print village\n",
    "    for k, paired_frame in edge.items():\n",
    "        paired_frame.to_stata(output+str(village)+\"_\"+edge+\"_.dta\")\n",
    "        paired_frame.to_csv(output+str(village)+\"_\"+edge+\"_.csv\")"
   ]
  },
  {
   "cell_type": "code",
   "execution_count": null,
   "metadata": {
    "collapsed": true
   },
   "outputs": [],
   "source": []
  }
 ],
 "metadata": {
  "kernelspec": {
   "display_name": "Python 2",
   "language": "python",
   "name": "python2"
  },
  "language_info": {
   "codemirror_mode": {
    "name": "ipython",
    "version": 2
   },
   "file_extension": ".py",
   "mimetype": "text/x-python",
   "name": "python",
   "nbconvert_exporter": "python",
   "pygments_lexer": "ipython2",
   "version": "2.7.10"
  }
 },
 "nbformat": 4,
 "nbformat_minor": 0
}
